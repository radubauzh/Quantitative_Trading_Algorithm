{
 "cells": [
  {
   "cell_type": "markdown",
   "id": "43e042af",
   "metadata": {},
   "source": [
    "# S&P 500 Trading Algorithm\n",
    "\n",
    "This notebook implements a trading algorithm for the S&P 500 using machine learning models. We will use available parameters as signals and build models like FFNN, LSTM, and CNN."
   ]
  },
  {
   "cell_type": "markdown",
   "id": "a4a9f2ab",
   "metadata": {},
   "source": [
    "## Step 1: Data Loading and Exploration"
   ]
  },
  {
   "cell_type": "code",
   "id": "87a1690f",
   "metadata": {
    "ExecuteTime": {
     "end_time": "2024-06-25T16:21:44.799114Z",
     "start_time": "2024-06-25T16:21:44.772448Z"
    }
   },
   "source": [
    "import pandas as pd\n",
    "import numpy as np\n",
    "\n",
    "\n",
    "# Load the CSV data\n",
    "data = pd.read_csv(\"C:/Users/David/Documents/GitHub/Quantitative_Trading_Algorithm/output.csv\")\n",
    "\n",
    "# Print the columns to understand the data structure\n",
    "print(\"Data Columns:\")\n",
    "print(data.columns)\n",
    "\n",
    "# Based on the legend, we should map these columns to lowercase\n",
    "selected_columns = [\n",
    "     \"year\", \"month\", \"day\",\n",
    "    'emp', 'pe', 'cape', 'dy', 'rho', 'mov', 'ir', 'rr',\n",
    "    'y02', 'y10', 'stp', 'cf', 'mg', 'rv', 'ed', 'un',\n",
    "    'gdp', 'm2', 'cpi', 'dil', 'yss', 'nyf',\n",
    "    '_au', '_dxy', '_lcp', '_ty', '_oil',\n",
    "    '_mkt', '_va', '_gr'\n",
    "]\n",
    "\n",
    "# Check if the selected columns are in the data\n",
    "available_columns = [col for col in selected_columns if col in data.columns]\n",
    "print(\"Selected Available Columns:\")\n",
    "print(available_columns)\n",
    "\n",
    "# Extracting the relevant columns\n",
    "data = data[available_columns + ['snp']]  # Including 'snp' as target"
   ],
   "outputs": [
    {
     "name": "stdout",
     "output_type": "stream",
     "text": [
      "Data Columns:\n",
      "Index(['emp', 'pe', 'cape', 'dy', 'rho', 'mov', 'ir', 'rr', 'y02', 'y10',\n",
      "       'stp', 'cf', 'mg', 'rv', 'ed', 'un', 'gdp', 'm2', 'cpi', 'dil', 'yss',\n",
      "       'nyf', '_au', '_dxy', '_lcp', '_ty', '_oil', '_mkt', '_va', '_gr',\n",
      "       'snp', 'date', 'year', 'month', 'day', 'label'],\n",
      "      dtype='object')\n",
      "Selected Available Columns:\n",
      "['year', 'month', 'day', 'emp', 'pe', 'cape', 'dy', 'rho', 'mov', 'ir', 'rr', 'y02', 'y10', 'stp', 'cf', 'mg', 'rv', 'ed', 'un', 'gdp', 'm2', 'cpi', 'dil', 'yss', 'nyf', '_au', '_dxy', '_lcp', '_ty', '_oil', '_mkt', '_va', '_gr']\n"
     ]
    }
   ],
   "execution_count": 180
  },
  {
   "cell_type": "markdown",
   "id": "ef67f887",
   "metadata": {},
   "source": "## Step 2: Preprocess and Feature Engineering"
  },
  {
   "cell_type": "code",
   "id": "216ca15a",
   "metadata": {
    "ExecuteTime": {
     "end_time": "2024-06-25T16:21:45.150551Z",
     "start_time": "2024-06-25T16:21:45.130269Z"
    }
   },
   "source": [
    "from sklearn.preprocessing import StandardScaler\n",
    "from sklearn.model_selection import train_test_split\n",
    "\n",
    "# Handle missing values\n",
    "data = data.dropna()\n",
    "\n",
    "# Extract features and target\n",
    "features = data.drop(columns=['snp'])\n",
    "target = data['snp']\n",
    "\n",
    "# Normalize the features\n",
    "scaler = StandardScaler()\n",
    "features_scaled = scaler.fit_transform(features)\n",
    "\n",
    "# Split the data into training and testing sets\n",
    "X_train, X_test, y_train, y_test = train_test_split(features_scaled, target, test_size=0.2, random_state=42)\n",
    "\n",
    "print(\"Feature Engineering and Data Preprocessing Complete.\")\n"
   ],
   "outputs": [
    {
     "name": "stdout",
     "output_type": "stream",
     "text": [
      "Feature Engineering and Data Preprocessing Complete.\n"
     ]
    }
   ],
   "execution_count": 181
  },
  {
   "cell_type": "markdown",
   "id": "9ede4e02",
   "metadata": {},
   "source": [
    "## Step 3: Custom Train-Test Split for LSTM"
   ]
  },
  {
   "cell_type": "code",
   "id": "15b38767",
   "metadata": {
    "ExecuteTime": {
     "end_time": "2024-06-25T16:21:45.332229Z",
     "start_time": "2024-06-25T16:21:45.319159Z"
    }
   },
   "source": [
    "# Custom function to split data for each year to keep the data sequential\n",
    "def custom_train_test_split(features, target, train_size=42, test_size=10):\n",
    "    X_train_list, X_test_list, y_train_list, y_test_list = [], [], [], []\n",
    "    for start in range(0, len(features), train_size + test_size):\n",
    "        end_train = start + train_size\n",
    "        end_test = end_train + test_size\n",
    "        if end_test <= len(features):\n",
    "            X_train_list.append(features[start:end_train])\n",
    "            y_train_list.append(target[start:end_train])\n",
    "            X_test_list.append(features[end_train:end_test])\n",
    "            y_test_list.append(target[end_train:end_test])\n",
    "    \n",
    "    X_train_lstm_prepared = np.concatenate(X_train_list)\n",
    "    y_train_lstm_prepared = np.concatenate(y_train_list)\n",
    "    X_test_lstm_prepared = np.concatenate(X_test_list)\n",
    "    y_test_lstm_prepared = np.concatenate(y_test_list)\n",
    "    \n",
    "    return X_train_lstm_prepared, y_train_lstm_prepared, X_test_lstm_prepared, y_test_lstm_prepared\n",
    "\n",
    "# Split the data using the custom function\n",
    "X_train_lstm_prepared, y_train_lstm_prepared, X_test_lstm_prepared, y_test_lstm_prepared = custom_train_test_split(features_scaled, target)\n",
    "\n",
    "# Reshape data for LSTM (needs 3D input)\n",
    "X_train_lstm = X_train_lstm_prepared.reshape((X_train_lstm_prepared.shape[0], 1, X_train_lstm_prepared.shape[1]))\n",
    "X_test_lstm = X_test_lstm_prepared.reshape((X_test_lstm_prepared.shape[0], 1, X_test_lstm_prepared.shape[1]))\n"
   ],
   "outputs": [],
   "execution_count": 182
  },
  {
   "cell_type": "markdown",
   "id": "a815f500",
   "metadata": {},
   "source": [
    "## Step 4: Model Implementation"
   ]
  },
  {
   "cell_type": "markdown",
   "id": "d75432ff",
   "metadata": {},
   "source": [
    "### Feed-Forward Neural Network (FFNN)"
   ]
  },
  {
   "cell_type": "code",
   "id": "28dfc545",
   "metadata": {
    "ExecuteTime": {
     "end_time": "2024-06-25T16:21:57.048022Z",
     "start_time": "2024-06-25T16:21:45.364408Z"
    }
   },
   "source": [
    "from keras.models import Sequential\n",
    "from keras.layers import Dense, Dropout\n",
    "from keras.optimizers import Adam\n",
    "from sklearn.model_selection import train_test_split\n",
    "from sklearn.preprocessing import StandardScaler\n",
    "from sklearn.metrics import mean_squared_error, r2_score\n",
    "import matplotlib.pyplot as plt\n",
    "\n",
    "# Define the FFNN model creation function\n",
    "def create_ffnn_model(input_dim):\n",
    "    model = Sequential()\n",
    "    model.add(Dense(64, input_dim=input_dim, activation='relu'))\n",
    "    model.add(Dropout(0.2))\n",
    "    model.add(Dense(32, activation='relu'))\n",
    "    model.add(Dropout(0.2))\n",
    "    model.add(Dense(1, activation='linear'))\n",
    "    model.compile(optimizer=Adam(learning_rate=0.001), loss='mean_squared_error')\n",
    "    return model\n",
    "\n",
    "# Training with all parameters\n",
    "scaler = StandardScaler()\n",
    "X_train_scaled = scaler.fit_transform(X_train)\n",
    "X_test_scaled = scaler.transform(X_test)\n",
    "\n",
    "ffnn_model = create_ffnn_model(X_train_scaled.shape[1])\n",
    "ffnn_history = ffnn_model.fit(X_train_scaled, y_train, epochs=50, batch_size=16, validation_split=0.2, verbose=1)\n",
    "\n",
    "ffnn_evaluation = ffnn_model.evaluate(X_test_scaled, y_test)\n",
    "print(f\"FFNN Model Test Loss: {ffnn_evaluation}\")\n",
    "\n",
    "ffnn_predictions = ffnn_model.predict(X_test_scaled)\n",
    "print(\"FFNN Model Training and Evaluation Complete.\")\n",
    "\n",
    "# Plot the training and validation loss\n",
    "plt.figure(figsize=(12, 6))\n",
    "plt.plot(ffnn_history.history['loss'], label='Training Loss', color='blue')\n",
    "plt.plot(ffnn_history.history['val_loss'], label='Validation Loss', color='red')\n",
    "plt.title('FFNN Model Training and Validation Loss')\n",
    "plt.xlabel('Epochs')\n",
    "plt.ylabel('Loss')\n",
    "plt.legend()\n",
    "plt.show()"
   ],
   "outputs": [
    {
     "name": "stdout",
     "output_type": "stream",
     "text": [
      "Epoch 1/50\n"
     ]
    },
    {
     "name": "stderr",
     "output_type": "stream",
     "text": [
      "C:\\Users\\David\\anaconda3\\Lib\\site-packages\\keras\\src\\layers\\core\\dense.py:87: UserWarning: Do not pass an `input_shape`/`input_dim` argument to a layer. When using Sequential models, prefer using an `Input(shape)` object as the first layer in the model instead.\n",
      "  super().__init__(activity_regularizer=activity_regularizer, **kwargs)\n"
     ]
    },
    {
     "name": "stdout",
     "output_type": "stream",
     "text": [
      "\u001B[1m76/76\u001B[0m \u001B[32m━━━━━━━━━━━━━━━━━━━━\u001B[0m\u001B[37m\u001B[0m \u001B[1m2s\u001B[0m 5ms/step - loss: 3578044.0000 - val_loss: 3831928.2500\n",
      "Epoch 2/50\n",
      "\u001B[1m76/76\u001B[0m \u001B[32m━━━━━━━━━━━━━━━━━━━━\u001B[0m\u001B[37m\u001B[0m \u001B[1m0s\u001B[0m 2ms/step - loss: 3540157.2500 - val_loss: 3542486.5000\n",
      "Epoch 3/50\n",
      "\u001B[1m76/76\u001B[0m \u001B[32m━━━━━━━━━━━━━━━━━━━━\u001B[0m\u001B[37m\u001B[0m \u001B[1m0s\u001B[0m 2ms/step - loss: 3233278.7500 - val_loss: 2660411.2500\n",
      "Epoch 4/50\n",
      "\u001B[1m76/76\u001B[0m \u001B[32m━━━━━━━━━━━━━━━━━━━━\u001B[0m\u001B[37m\u001B[0m \u001B[1m0s\u001B[0m 2ms/step - loss: 2251470.5000 - val_loss: 1279733.0000\n",
      "Epoch 5/50\n",
      "\u001B[1m76/76\u001B[0m \u001B[32m━━━━━━━━━━━━━━━━━━━━\u001B[0m\u001B[37m\u001B[0m \u001B[1m0s\u001B[0m 2ms/step - loss: 1005128.3125 - val_loss: 394599.7500\n",
      "Epoch 6/50\n",
      "\u001B[1m76/76\u001B[0m \u001B[32m━━━━━━━━━━━━━━━━━━━━\u001B[0m\u001B[37m\u001B[0m \u001B[1m0s\u001B[0m 2ms/step - loss: 379461.7188 - val_loss: 192825.0000\n",
      "Epoch 7/50\n",
      "\u001B[1m76/76\u001B[0m \u001B[32m━━━━━━━━━━━━━━━━━━━━\u001B[0m\u001B[37m\u001B[0m \u001B[1m0s\u001B[0m 2ms/step - loss: 249060.0781 - val_loss: 134303.7969\n",
      "Epoch 8/50\n",
      "\u001B[1m76/76\u001B[0m \u001B[32m━━━━━━━━━━━━━━━━━━━━\u001B[0m\u001B[37m\u001B[0m \u001B[1m0s\u001B[0m 2ms/step - loss: 221285.2969 - val_loss: 105523.0781\n",
      "Epoch 9/50\n",
      "\u001B[1m76/76\u001B[0m \u001B[32m━━━━━━━━━━━━━━━━━━━━\u001B[0m\u001B[37m\u001B[0m \u001B[1m0s\u001B[0m 2ms/step - loss: 175450.3594 - val_loss: 87614.7891\n",
      "Epoch 10/50\n",
      "\u001B[1m76/76\u001B[0m \u001B[32m━━━━━━━━━━━━━━━━━━━━\u001B[0m\u001B[37m\u001B[0m \u001B[1m0s\u001B[0m 2ms/step - loss: 164182.0312 - val_loss: 73519.8359\n",
      "Epoch 11/50\n",
      "\u001B[1m76/76\u001B[0m \u001B[32m━━━━━━━━━━━━━━━━━━━━\u001B[0m\u001B[37m\u001B[0m \u001B[1m0s\u001B[0m 2ms/step - loss: 161817.4531 - val_loss: 61781.5977\n",
      "Epoch 12/50\n",
      "\u001B[1m76/76\u001B[0m \u001B[32m━━━━━━━━━━━━━━━━━━━━\u001B[0m\u001B[37m\u001B[0m \u001B[1m0s\u001B[0m 2ms/step - loss: 137873.5469 - val_loss: 53094.0078\n",
      "Epoch 13/50\n",
      "\u001B[1m76/76\u001B[0m \u001B[32m━━━━━━━━━━━━━━━━━━━━\u001B[0m\u001B[37m\u001B[0m \u001B[1m0s\u001B[0m 2ms/step - loss: 130639.2266 - val_loss: 45686.2930\n",
      "Epoch 14/50\n",
      "\u001B[1m76/76\u001B[0m \u001B[32m━━━━━━━━━━━━━━━━━━━━\u001B[0m\u001B[37m\u001B[0m \u001B[1m0s\u001B[0m 2ms/step - loss: 121218.2422 - val_loss: 42140.2930\n",
      "Epoch 15/50\n",
      "\u001B[1m76/76\u001B[0m \u001B[32m━━━━━━━━━━━━━━━━━━━━\u001B[0m\u001B[37m\u001B[0m \u001B[1m0s\u001B[0m 2ms/step - loss: 116916.0938 - val_loss: 35268.0156\n",
      "Epoch 16/50\n",
      "\u001B[1m76/76\u001B[0m \u001B[32m━━━━━━━━━━━━━━━━━━━━\u001B[0m\u001B[37m\u001B[0m \u001B[1m0s\u001B[0m 2ms/step - loss: 116524.7656 - val_loss: 32091.2246\n",
      "Epoch 17/50\n",
      "\u001B[1m76/76\u001B[0m \u001B[32m━━━━━━━━━━━━━━━━━━━━\u001B[0m\u001B[37m\u001B[0m \u001B[1m0s\u001B[0m 2ms/step - loss: 119370.9062 - val_loss: 29741.2051\n",
      "Epoch 18/50\n",
      "\u001B[1m76/76\u001B[0m \u001B[32m━━━━━━━━━━━━━━━━━━━━\u001B[0m\u001B[37m\u001B[0m \u001B[1m0s\u001B[0m 2ms/step - loss: 107588.5625 - val_loss: 27274.4629\n",
      "Epoch 19/50\n",
      "\u001B[1m76/76\u001B[0m \u001B[32m━━━━━━━━━━━━━━━━━━━━\u001B[0m\u001B[37m\u001B[0m \u001B[1m0s\u001B[0m 2ms/step - loss: 111469.7969 - val_loss: 25473.4707\n",
      "Epoch 20/50\n",
      "\u001B[1m76/76\u001B[0m \u001B[32m━━━━━━━━━━━━━━━━━━━━\u001B[0m\u001B[37m\u001B[0m \u001B[1m0s\u001B[0m 2ms/step - loss: 108469.5156 - val_loss: 25994.2559\n",
      "Epoch 21/50\n",
      "\u001B[1m76/76\u001B[0m \u001B[32m━━━━━━━━━━━━━━━━━━━━\u001B[0m\u001B[37m\u001B[0m \u001B[1m0s\u001B[0m 2ms/step - loss: 115979.6875 - val_loss: 23452.4023\n",
      "Epoch 22/50\n",
      "\u001B[1m76/76\u001B[0m \u001B[32m━━━━━━━━━━━━━━━━━━━━\u001B[0m\u001B[37m\u001B[0m \u001B[1m0s\u001B[0m 2ms/step - loss: 87424.6094 - val_loss: 22649.9023\n",
      "Epoch 23/50\n",
      "\u001B[1m76/76\u001B[0m \u001B[32m━━━━━━━━━━━━━━━━━━━━\u001B[0m\u001B[37m\u001B[0m \u001B[1m0s\u001B[0m 2ms/step - loss: 96621.7031 - val_loss: 21317.5293\n",
      "Epoch 24/50\n",
      "\u001B[1m76/76\u001B[0m \u001B[32m━━━━━━━━━━━━━━━━━━━━\u001B[0m\u001B[37m\u001B[0m \u001B[1m0s\u001B[0m 2ms/step - loss: 101479.2344 - val_loss: 20243.5703\n",
      "Epoch 25/50\n",
      "\u001B[1m76/76\u001B[0m \u001B[32m━━━━━━━━━━━━━━━━━━━━\u001B[0m\u001B[37m\u001B[0m \u001B[1m0s\u001B[0m 3ms/step - loss: 114124.5156 - val_loss: 19796.1914\n",
      "Epoch 26/50\n",
      "\u001B[1m76/76\u001B[0m \u001B[32m━━━━━━━━━━━━━━━━━━━━\u001B[0m\u001B[37m\u001B[0m \u001B[1m0s\u001B[0m 2ms/step - loss: 86793.8750 - val_loss: 20008.6875\n",
      "Epoch 27/50\n",
      "\u001B[1m76/76\u001B[0m \u001B[32m━━━━━━━━━━━━━━━━━━━━\u001B[0m\u001B[37m\u001B[0m \u001B[1m0s\u001B[0m 2ms/step - loss: 92490.4531 - val_loss: 18580.9316\n",
      "Epoch 28/50\n",
      "\u001B[1m76/76\u001B[0m \u001B[32m━━━━━━━━━━━━━━━━━━━━\u001B[0m\u001B[37m\u001B[0m \u001B[1m0s\u001B[0m 2ms/step - loss: 115665.5859 - val_loss: 16779.3926\n",
      "Epoch 29/50\n",
      "\u001B[1m76/76\u001B[0m \u001B[32m━━━━━━━━━━━━━━━━━━━━\u001B[0m\u001B[37m\u001B[0m \u001B[1m0s\u001B[0m 2ms/step - loss: 113949.4688 - val_loss: 16591.5664\n",
      "Epoch 30/50\n",
      "\u001B[1m76/76\u001B[0m \u001B[32m━━━━━━━━━━━━━━━━━━━━\u001B[0m\u001B[37m\u001B[0m \u001B[1m0s\u001B[0m 2ms/step - loss: 100371.0000 - val_loss: 15204.9502\n",
      "Epoch 31/50\n",
      "\u001B[1m76/76\u001B[0m \u001B[32m━━━━━━━━━━━━━━━━━━━━\u001B[0m\u001B[37m\u001B[0m \u001B[1m0s\u001B[0m 2ms/step - loss: 93657.4609 - val_loss: 16325.6758\n",
      "Epoch 32/50\n",
      "\u001B[1m76/76\u001B[0m \u001B[32m━━━━━━━━━━━━━━━━━━━━\u001B[0m\u001B[37m\u001B[0m \u001B[1m0s\u001B[0m 2ms/step - loss: 104258.0234 - val_loss: 14667.5430\n",
      "Epoch 33/50\n",
      "\u001B[1m76/76\u001B[0m \u001B[32m━━━━━━━━━━━━━━━━━━━━\u001B[0m\u001B[37m\u001B[0m \u001B[1m0s\u001B[0m 3ms/step - loss: 106065.2031 - val_loss: 16145.6572\n",
      "Epoch 34/50\n",
      "\u001B[1m76/76\u001B[0m \u001B[32m━━━━━━━━━━━━━━━━━━━━\u001B[0m\u001B[37m\u001B[0m \u001B[1m0s\u001B[0m 2ms/step - loss: 100583.1641 - val_loss: 16193.0791\n",
      "Epoch 35/50\n",
      "\u001B[1m76/76\u001B[0m \u001B[32m━━━━━━━━━━━━━━━━━━━━\u001B[0m\u001B[37m\u001B[0m \u001B[1m0s\u001B[0m 2ms/step - loss: 89930.9375 - val_loss: 13239.3232\n",
      "Epoch 36/50\n",
      "\u001B[1m76/76\u001B[0m \u001B[32m━━━━━━━━━━━━━━━━━━━━\u001B[0m\u001B[37m\u001B[0m \u001B[1m0s\u001B[0m 2ms/step - loss: 91215.0625 - val_loss: 14548.1475\n",
      "Epoch 37/50\n",
      "\u001B[1m76/76\u001B[0m \u001B[32m━━━━━━━━━━━━━━━━━━━━\u001B[0m\u001B[37m\u001B[0m \u001B[1m0s\u001B[0m 2ms/step - loss: 84435.8281 - val_loss: 13441.7686\n",
      "Epoch 38/50\n",
      "\u001B[1m76/76\u001B[0m \u001B[32m━━━━━━━━━━━━━━━━━━━━\u001B[0m\u001B[37m\u001B[0m \u001B[1m0s\u001B[0m 2ms/step - loss: 87303.1562 - val_loss: 12067.3770\n",
      "Epoch 39/50\n",
      "\u001B[1m76/76\u001B[0m \u001B[32m━━━━━━━━━━━━━━━━━━━━\u001B[0m\u001B[37m\u001B[0m \u001B[1m0s\u001B[0m 2ms/step - loss: 98696.2812 - val_loss: 11608.2607\n",
      "Epoch 40/50\n",
      "\u001B[1m76/76\u001B[0m \u001B[32m━━━━━━━━━━━━━━━━━━━━\u001B[0m\u001B[37m\u001B[0m \u001B[1m0s\u001B[0m 2ms/step - loss: 81363.0781 - val_loss: 11775.1709\n",
      "Epoch 41/50\n",
      "\u001B[1m76/76\u001B[0m \u001B[32m━━━━━━━━━━━━━━━━━━━━\u001B[0m\u001B[37m\u001B[0m \u001B[1m0s\u001B[0m 2ms/step - loss: 74401.3750 - val_loss: 11009.4170\n",
      "Epoch 42/50\n",
      "\u001B[1m76/76\u001B[0m \u001B[32m━━━━━━━━━━━━━━━━━━━━\u001B[0m\u001B[37m\u001B[0m \u001B[1m0s\u001B[0m 2ms/step - loss: 89477.8672 - val_loss: 16194.9551\n",
      "Epoch 43/50\n",
      "\u001B[1m76/76\u001B[0m \u001B[32m━━━━━━━━━━━━━━━━━━━━\u001B[0m\u001B[37m\u001B[0m \u001B[1m0s\u001B[0m 2ms/step - loss: 99591.7891 - val_loss: 11533.3232\n",
      "Epoch 44/50\n",
      "\u001B[1m76/76\u001B[0m \u001B[32m━━━━━━━━━━━━━━━━━━━━\u001B[0m\u001B[37m\u001B[0m \u001B[1m0s\u001B[0m 2ms/step - loss: 93417.7578 - val_loss: 10473.4307\n",
      "Epoch 45/50\n",
      "\u001B[1m76/76\u001B[0m \u001B[32m━━━━━━━━━━━━━━━━━━━━\u001B[0m\u001B[37m\u001B[0m \u001B[1m0s\u001B[0m 2ms/step - loss: 81952.5938 - val_loss: 11077.4160\n",
      "Epoch 46/50\n",
      "\u001B[1m76/76\u001B[0m \u001B[32m━━━━━━━━━━━━━━━━━━━━\u001B[0m\u001B[37m\u001B[0m \u001B[1m0s\u001B[0m 2ms/step - loss: 93398.0781 - val_loss: 9433.6787\n",
      "Epoch 47/50\n",
      "\u001B[1m76/76\u001B[0m \u001B[32m━━━━━━━━━━━━━━━━━━━━\u001B[0m\u001B[37m\u001B[0m \u001B[1m0s\u001B[0m 2ms/step - loss: 89175.5625 - val_loss: 10379.8447\n",
      "Epoch 48/50\n",
      "\u001B[1m76/76\u001B[0m \u001B[32m━━━━━━━━━━━━━━━━━━━━\u001B[0m\u001B[37m\u001B[0m \u001B[1m0s\u001B[0m 2ms/step - loss: 96466.0938 - val_loss: 9677.1270\n",
      "Epoch 49/50\n",
      "\u001B[1m76/76\u001B[0m \u001B[32m━━━━━━━━━━━━━━━━━━━━\u001B[0m\u001B[37m\u001B[0m \u001B[1m0s\u001B[0m 2ms/step - loss: 85215.1641 - val_loss: 11406.6191\n",
      "Epoch 50/50\n",
      "\u001B[1m76/76\u001B[0m \u001B[32m━━━━━━━━━━━━━━━━━━━━\u001B[0m\u001B[37m\u001B[0m \u001B[1m0s\u001B[0m 2ms/step - loss: 81067.5547 - val_loss: 10447.1641\n",
      "\u001B[1m12/12\u001B[0m \u001B[32m━━━━━━━━━━━━━━━━━━━━\u001B[0m\u001B[37m\u001B[0m \u001B[1m0s\u001B[0m 1ms/step - loss: 16765.7480 \n",
      "FFNN Model Test Loss: 16286.947265625\n",
      "\u001B[1m12/12\u001B[0m \u001B[32m━━━━━━━━━━━━━━━━━━━━\u001B[0m\u001B[37m\u001B[0m \u001B[1m0s\u001B[0m 6ms/step\n",
      "FFNN Model Training and Evaluation Complete.\n"
     ]
    },
    {
     "data": {
      "text/plain": [
       "<Figure size 864x432 with 1 Axes>"
      ],
      "image/png": "[encoded data removed]"
     },
     "metadata": {
      "needs_background": "light"
     },
     "output_type": "display_data"
    }
   ],
   "execution_count": 183
  },
  {
   "cell_type": "markdown",
   "id": "a6b83202",
   "metadata": {},
   "source": [
    "### Long Short-Term Memory Network (LSTM)"
   ]
  },
  {
   "cell_type": "code",
   "id": "7e8e6731",
   "metadata": {
    "ExecuteTime": {
     "end_time": "2024-06-25T16:22:07.044169Z",
     "start_time": "2024-06-25T16:21:57.050023Z"
    }
   },
   "source": [
    "from tensorflow.keras.callbacks import EarlyStopping\n",
    "from keras.src.layers import BatchNormalization\n",
    "from keras.layers import LSTM\n",
    "import matplotlib.pyplot as plt\n",
    "\n",
    "\n",
    "# Reshape data for LSTM (needs 3D input)\n",
    "X_train_lstm = X_train_lstm_prepared.reshape((X_train_lstm_prepared.shape[0], 1, X_train_lstm_prepared.shape[1]))\n",
    "X_test_lstm = X_test_lstm_prepared.reshape((X_test_lstm_prepared.shape[0], 1, X_test_lstm_prepared.shape[1]))\n",
    "\n",
    "# Define the LSTM model\n",
    "lstm_model = Sequential()\n",
    "lstm_model.add(LSTM(10, activation='relu', input_shape=(X_train_lstm.shape[1], X_train_lstm.shape[2])))\n",
    "lstm_model.add(Dropout(0.5))  # Add dropout for regularization\n",
    "lstm_model.add(BatchNormalization())  # Add batch normalization\n",
    "lstm_model.add(Dense(32, activation='relu'))  # Add an additional dense layer\n",
    "lstm_model.add(Dropout(0.5))  # Add another dropout for regularization\n",
    "lstm_model.add(Dense(units=1))\n",
    "\n",
    "# Compile the model\n",
    "lstm_model.compile(optimizer='adam', loss='mean_squared_error')\n",
    "early_stop = EarlyStopping(monitor='val_loss', patience=3, restore_best_weights=True)\n",
    "\n",
    "# Train the model with early stopping\n",
    "lstm_history = lstm_model.fit(X_train_lstm, y_train_lstm_prepared, epochs=40, batch_size=32, validation_split=0.2, verbose=1, callbacks=[early_stop])\n",
    "\n",
    "# Evaluate the model on the test set\n",
    "lstm_evaluation = lstm_model.evaluate(X_test_lstm, y_test_lstm_prepared)\n",
    "print(f\"LSTM Model Test Loss: {lstm_evaluation}\")\n",
    "\n",
    "# Make predictions\n",
    "lstm_predictions = lstm_model.predict(X_test_lstm)\n",
    "\n",
    "print(\"LSTM Model Training and Evaluation Complete.\")\n",
    "\n",
    "# Plot the training and validation loss\n",
    "plt.figure(figsize=(12, 6))\n",
    "plt.plot(lstm_history.history['loss'], label='Training Loss', color='blue')\n",
    "plt.plot(lstm_history.history['val_loss'], label='Validation Loss', color='red')\n",
    "plt.title('LSTM Model Training and Validation Loss')\n",
    "plt.xlabel('Epochs')\n",
    "plt.ylabel('Loss')\n",
    "plt.legend()\n",
    "plt.show()"
   ],
   "outputs": [
    {
     "name": "stdout",
     "output_type": "stream",
     "text": [
      "Epoch 1/40\n"
     ]
    },
    {
     "name": "stderr",
     "output_type": "stream",
     "text": [
      "C:\\Users\\David\\anaconda3\\Lib\\site-packages\\keras\\src\\layers\\rnn\\rnn.py:204: UserWarning: Do not pass an `input_shape`/`input_dim` argument to a layer. When using Sequential models, prefer using an `Input(shape)` object as the first layer in the model instead.\n",
      "  super().__init__(**kwargs)\n"
     ]
    },
    {
     "name": "stdout",
     "output_type": "stream",
     "text": [
      "\u001B[1m38/38\u001B[0m \u001B[32m━━━━━━━━━━━━━━━━━━━━\u001B[0m\u001B[37m\u001B[0m \u001B[1m3s\u001B[0m 12ms/step - loss: 1359641.6250 - val_loss: 12302006.0000\n",
      "Epoch 2/40\n",
      "\u001B[1m38/38\u001B[0m \u001B[32m━━━━━━━━━━━━━━━━━━━━\u001B[0m\u001B[37m\u001B[0m \u001B[1m0s\u001B[0m 4ms/step - loss: 1357132.8750 - val_loss: 12295805.0000\n",
      "Epoch 3/40\n",
      "\u001B[1m38/38\u001B[0m \u001B[32m━━━━━━━━━━━━━━━━━━━━\u001B[0m\u001B[37m\u001B[0m \u001B[1m0s\u001B[0m 3ms/step - loss: 1404557.0000 - val_loss: 12283199.0000\n",
      "Epoch 4/40\n",
      "\u001B[1m38/38\u001B[0m \u001B[32m━━━━━━━━━━━━━━━━━━━━\u001B[0m\u001B[37m\u001B[0m \u001B[1m0s\u001B[0m 3ms/step - loss: 1365961.3750 - val_loss: 12258046.0000\n",
      "Epoch 5/40\n",
      "\u001B[1m38/38\u001B[0m \u001B[32m━━━━━━━━━━━━━━━━━━━━\u001B[0m\u001B[37m\u001B[0m \u001B[1m0s\u001B[0m 3ms/step - loss: 1399081.2500 - val_loss: 12210741.0000\n",
      "Epoch 6/40\n",
      "\u001B[1m38/38\u001B[0m \u001B[32m━━━━━━━━━━━━━━━━━━━━\u001B[0m\u001B[37m\u001B[0m \u001B[1m0s\u001B[0m 3ms/step - loss: 1364469.1250 - val_loss: 12133941.0000\n",
      "Epoch 7/40\n",
      "\u001B[1m38/38\u001B[0m \u001B[32m━━━━━━━━━━━━━━━━━━━━\u001B[0m\u001B[37m\u001B[0m \u001B[1m0s\u001B[0m 3ms/step - loss: 1352887.3750 - val_loss: 12026126.0000\n",
      "Epoch 8/40\n",
      "\u001B[1m38/38\u001B[0m \u001B[32m━━━━━━━━━━━━━━━━━━━━\u001B[0m\u001B[37m\u001B[0m \u001B[1m0s\u001B[0m 3ms/step - loss: 1311497.2500 - val_loss: 11859875.0000\n",
      "Epoch 9/40\n",
      "\u001B[1m38/38\u001B[0m \u001B[32m━━━━━━━━━━━━━━━━━━━━\u001B[0m\u001B[37m\u001B[0m \u001B[1m0s\u001B[0m 3ms/step - loss: 1294264.5000 - val_loss: 11625984.0000\n",
      "Epoch 10/40\n",
      "\u001B[1m38/38\u001B[0m \u001B[32m━━━━━━━━━━━━━━━━━━━━\u001B[0m\u001B[37m\u001B[0m \u001B[1m0s\u001B[0m 3ms/step - loss: 1282321.3750 - val_loss: 11369770.0000\n",
      "Epoch 11/40\n",
      "\u001B[1m38/38\u001B[0m \u001B[32m━━━━━━━━━━━━━━━━━━━━\u001B[0m\u001B[37m\u001B[0m \u001B[1m0s\u001B[0m 4ms/step - loss: 1245191.7500 - val_loss: 11033576.0000\n",
      "Epoch 12/40\n",
      "\u001B[1m38/38\u001B[0m \u001B[32m━━━━━━━━━━━━━━━━━━━━\u001B[0m\u001B[37m\u001B[0m \u001B[1m0s\u001B[0m 3ms/step - loss: 1192628.2500 - val_loss: 10593686.0000\n",
      "Epoch 13/40\n",
      "\u001B[1m38/38\u001B[0m \u001B[32m━━━━━━━━━━━━━━━━━━━━\u001B[0m\u001B[37m\u001B[0m \u001B[1m0s\u001B[0m 3ms/step - loss: 1145183.1250 - val_loss: 10045353.0000\n",
      "Epoch 14/40\n",
      "\u001B[1m38/38\u001B[0m \u001B[32m━━━━━━━━━━━━━━━━━━━━\u001B[0m\u001B[37m\u001B[0m \u001B[1m0s\u001B[0m 3ms/step - loss: 984198.3750 - val_loss: 9402905.0000\n",
      "Epoch 15/40\n",
      "\u001B[1m38/38\u001B[0m \u001B[32m━━━━━━━━━━━━━━━━━━━━\u001B[0m\u001B[37m\u001B[0m \u001B[1m0s\u001B[0m 3ms/step - loss: 928150.3125 - val_loss: 8652049.0000\n",
      "Epoch 16/40\n",
      "\u001B[1m38/38\u001B[0m \u001B[32m━━━━━━━━━━━━━━━━━━━━\u001B[0m\u001B[37m\u001B[0m \u001B[1m0s\u001B[0m 3ms/step - loss: 800130.0000 - val_loss: 7872545.0000\n",
      "Epoch 17/40\n",
      "\u001B[1m38/38\u001B[0m \u001B[32m━━━━━━━━━━━━━━━━━━━━\u001B[0m\u001B[37m\u001B[0m \u001B[1m0s\u001B[0m 3ms/step - loss: 734213.5625 - val_loss: 7147793.5000\n",
      "Epoch 18/40\n",
      "\u001B[1m38/38\u001B[0m \u001B[32m━━━━━━━━━━━━━━━━━━━━\u001B[0m\u001B[37m\u001B[0m \u001B[1m0s\u001B[0m 4ms/step - loss: 637149.6875 - val_loss: 6469646.5000\n",
      "Epoch 19/40\n",
      "\u001B[1m38/38\u001B[0m \u001B[32m━━━━━━━━━━━━━━━━━━━━\u001B[0m\u001B[37m\u001B[0m \u001B[1m0s\u001B[0m 3ms/step - loss: 512648.8125 - val_loss: 5950187.5000\n",
      "Epoch 20/40\n",
      "\u001B[1m38/38\u001B[0m \u001B[32m━━━━━━━━━━━━━━━━━━━━\u001B[0m\u001B[37m\u001B[0m \u001B[1m0s\u001B[0m 3ms/step - loss: 429413.2812 - val_loss: 5199155.5000\n",
      "Epoch 21/40\n",
      "\u001B[1m38/38\u001B[0m \u001B[32m━━━━━━━━━━━━━━━━━━━━\u001B[0m\u001B[37m\u001B[0m \u001B[1m0s\u001B[0m 3ms/step - loss: 404922.7188 - val_loss: 4598096.5000\n",
      "Epoch 22/40\n",
      "\u001B[1m38/38\u001B[0m \u001B[32m━━━━━━━━━━━━━━━━━━━━\u001B[0m\u001B[37m\u001B[0m \u001B[1m0s\u001B[0m 3ms/step - loss: 343522.4375 - val_loss: 3867809.0000\n",
      "Epoch 23/40\n",
      "\u001B[1m38/38\u001B[0m \u001B[32m━━━━━━━━━━━━━━━━━━━━\u001B[0m\u001B[37m\u001B[0m \u001B[1m0s\u001B[0m 4ms/step - loss: 252572.2188 - val_loss: 3383822.2500\n",
      "Epoch 24/40\n",
      "\u001B[1m38/38\u001B[0m \u001B[32m━━━━━━━━━━━━━━━━━━━━\u001B[0m\u001B[37m\u001B[0m \u001B[1m0s\u001B[0m 3ms/step - loss: 242214.0312 - val_loss: 2881772.5000\n",
      "Epoch 25/40\n",
      "\u001B[1m38/38\u001B[0m \u001B[32m━━━━━━━━━━━━━━━━━━━━\u001B[0m\u001B[37m\u001B[0m \u001B[1m0s\u001B[0m 3ms/step - loss: 199849.0938 - val_loss: 2368013.0000\n",
      "Epoch 26/40\n",
      "\u001B[1m38/38\u001B[0m \u001B[32m━━━━━━━━━━━━━━━━━━━━\u001B[0m\u001B[37m\u001B[0m \u001B[1m0s\u001B[0m 3ms/step - loss: 170948.2500 - val_loss: 2169228.0000\n",
      "Epoch 27/40\n",
      "\u001B[1m38/38\u001B[0m \u001B[32m━━━━━━━━━━━━━━━━━━━━\u001B[0m\u001B[37m\u001B[0m \u001B[1m0s\u001B[0m 3ms/step - loss: 156768.6562 - val_loss: 2006599.8750\n",
      "Epoch 28/40\n",
      "\u001B[1m38/38\u001B[0m \u001B[32m━━━━━━━━━━━━━━━━━━━━\u001B[0m\u001B[37m\u001B[0m \u001B[1m0s\u001B[0m 3ms/step - loss: 151073.1250 - val_loss: 1835712.3750\n",
      "Epoch 29/40\n",
      "\u001B[1m38/38\u001B[0m \u001B[32m━━━━━━━━━━━━━━━━━━━━\u001B[0m\u001B[37m\u001B[0m \u001B[1m0s\u001B[0m 3ms/step - loss: 127482.6797 - val_loss: 1672223.0000\n",
      "Epoch 30/40\n",
      "\u001B[1m38/38\u001B[0m \u001B[32m━━━━━━━━━━━━━━━━━━━━\u001B[0m\u001B[37m\u001B[0m \u001B[1m0s\u001B[0m 3ms/step - loss: 119491.8906 - val_loss: 1522729.8750\n",
      "Epoch 31/40\n",
      "\u001B[1m38/38\u001B[0m \u001B[32m━━━━━━━━━━━━━━━━━━━━\u001B[0m\u001B[37m\u001B[0m \u001B[1m0s\u001B[0m 3ms/step - loss: 129937.3750 - val_loss: 1365772.3750\n",
      "Epoch 32/40\n",
      "\u001B[1m38/38\u001B[0m \u001B[32m━━━━━━━━━━━━━━━━━━━━\u001B[0m\u001B[37m\u001B[0m \u001B[1m0s\u001B[0m 3ms/step - loss: 131369.0625 - val_loss: 1504454.2500\n",
      "Epoch 33/40\n",
      "\u001B[1m38/38\u001B[0m \u001B[32m━━━━━━━━━━━━━━━━━━━━\u001B[0m\u001B[37m\u001B[0m \u001B[1m0s\u001B[0m 3ms/step - loss: 128247.1953 - val_loss: 1361260.8750\n",
      "Epoch 34/40\n",
      "\u001B[1m38/38\u001B[0m \u001B[32m━━━━━━━━━━━━━━━━━━━━\u001B[0m\u001B[37m\u001B[0m \u001B[1m0s\u001B[0m 3ms/step - loss: 123872.0391 - val_loss: 1311296.5000\n",
      "Epoch 35/40\n",
      "\u001B[1m38/38\u001B[0m \u001B[32m━━━━━━━━━━━━━━━━━━━━\u001B[0m\u001B[37m\u001B[0m \u001B[1m0s\u001B[0m 3ms/step - loss: 126726.3906 - val_loss: 1230877.1250\n",
      "Epoch 36/40\n",
      "\u001B[1m38/38\u001B[0m \u001B[32m━━━━━━━━━━━━━━━━━━━━\u001B[0m\u001B[37m\u001B[0m \u001B[1m0s\u001B[0m 3ms/step - loss: 115700.5781 - val_loss: 1138606.0000\n",
      "Epoch 37/40\n",
      "\u001B[1m38/38\u001B[0m \u001B[32m━━━━━━━━━━━━━━━━━━━━\u001B[0m\u001B[37m\u001B[0m \u001B[1m0s\u001B[0m 3ms/step - loss: 118549.3125 - val_loss: 1100937.6250\n",
      "Epoch 38/40\n",
      "\u001B[1m38/38\u001B[0m \u001B[32m━━━━━━━━━━━━━━━━━━━━\u001B[0m\u001B[37m\u001B[0m \u001B[1m0s\u001B[0m 3ms/step - loss: 122079.8359 - val_loss: 1207191.0000\n",
      "Epoch 39/40\n",
      "\u001B[1m38/38\u001B[0m \u001B[32m━━━━━━━━━━━━━━━━━━━━\u001B[0m\u001B[37m\u001B[0m \u001B[1m0s\u001B[0m 3ms/step - loss: 121810.9141 - val_loss: 1153675.2500\n",
      "Epoch 40/40\n",
      "\u001B[1m38/38\u001B[0m \u001B[32m━━━━━━━━━━━━━━━━━━━━\u001B[0m\u001B[37m\u001B[0m \u001B[1m0s\u001B[0m 3ms/step - loss: 119640.8359 - val_loss: 1132417.8750\n",
      "\u001B[1m12/12\u001B[0m \u001B[32m━━━━━━━━━━━━━━━━━━━━\u001B[0m\u001B[37m\u001B[0m \u001B[1m0s\u001B[0m 1ms/step - loss: 79225.0859 \n",
      "LSTM Model Test Loss: 249068.265625\n",
      "\u001B[1m12/12\u001B[0m \u001B[32m━━━━━━━━━━━━━━━━━━━━\u001B[0m\u001B[37m\u001B[0m \u001B[1m0s\u001B[0m 22ms/step\n",
      "LSTM Model Training and Evaluation Complete.\n"
     ]
    },
    {
     "data": {
      "text/plain": [
       "<Figure size 864x432 with 1 Axes>"
      ],
      "image/png": "[encoded data removed]"
     },
     "metadata": {
      "needs_background": "light"
     },
     "output_type": "display_data"
    }
   ],
   "execution_count": 184
  },
  {
   "cell_type": "markdown",
   "id": "1d3aeafd",
   "metadata": {},
   "source": [
    "### Convolutional Neural Network (CNN)"
   ]
  },
  {
   "cell_type": "code",
   "id": "cc153e50",
   "metadata": {
    "jupyter": {
     "is_executing": true
    },
    "ExecuteTime": {
     "start_time": "2024-06-25T16:22:07.046175Z"
    }
   },
   "source": [
    "from keras.models import Sequential\n",
    "from keras.layers import Conv1D, MaxPooling1D, Flatten, Dense, Reshape, Dropout\n",
    "from sklearn.preprocessing import MinMaxScaler\n",
    "from sklearn.model_selection import train_test_split\n",
    "from sklearn.metrics import mean_squared_error, r2_score\n",
    "import numpy as np\n",
    "import matplotlib.pyplot as plt\n",
    "\n",
    "# Normalize the data\n",
    "scaler = MinMaxScaler(feature_range=(0, 1))\n",
    "\n",
    "# Define the CNN model creation function\n",
    "def create_cnn_model(input_dim):\n",
    "    model = Sequential()\n",
    "    model.add(Reshape((input_dim, 1), input_shape=(input_dim,)))\n",
    "    model.add(Conv1D(filters=128, kernel_size=2, activation='relu'))\n",
    "    model.add(MaxPooling1D(pool_size=1))\n",
    "    model.add(Dropout(0.25))  # Dropout layer to reduce overfitting\n",
    "    model.add(Conv1D(filters=64, kernel_size=2, activation='relu'))\n",
    "    model.add(MaxPooling1D(pool_size=1))\n",
    "    model.add(Flatten())\n",
    "    model.add(Dense(50, activation='relu'))\n",
    "    model.add(Dense(1))\n",
    "    model.compile(optimizer='adam', loss='mean_squared_error')\n",
    "    return model\n",
    "\n",
    "# Training with all parameters\n",
    "X_train_scaled = scaler.fit_transform(X_train)\n",
    "X_test_scaled = scaler.transform(X_test)\n",
    "\n",
    "cnn_model = create_cnn_model(X_train_scaled.shape[1])\n",
    "cnn_history = cnn_model.fit(X_train_scaled, y_train, epochs=40, batch_size=16, validation_split=0.2, verbose=1)\n",
    "\n",
    "cnn_evaluation = cnn_model.evaluate(X_test_scaled, y_test)\n",
    "print(f\"CNN Model Test Loss: {cnn_evaluation}\")\n",
    "\n",
    "cnn_predictions = cnn_model.predict(X_test_scaled)\n",
    "print(\"CNN Model Training and Evaluation Complete.\")\n",
    "\n",
    "plt.figure(figsize=(12, 6))\n",
    "plt.plot(cnn_history.history['loss'], label='Training Loss', color='blue')\n",
    "plt.plot(cnn_history.history['val_loss'], label='Validation Loss', color='red')\n",
    "plt.title('CNN Model Training and Validation Loss')\n",
    "plt.xlabel('Epochs')\n",
    "plt.ylabel('Loss')\n",
    "plt.legend()\n",
    "plt.show()\n"
   ],
   "outputs": [
    {
     "name": "stdout",
     "output_type": "stream",
     "text": [
      "Epoch 1/40\n"
     ]
    },
    {
     "name": "stderr",
     "output_type": "stream",
     "text": [
      "C:\\Users\\David\\anaconda3\\Lib\\site-packages\\keras\\src\\layers\\reshaping\\reshape.py:39: UserWarning: Do not pass an `input_shape`/`input_dim` argument to a layer. When using Sequential models, prefer using an `Input(shape)` object as the first layer in the model instead.\n",
      "  super().__init__(**kwargs)\n"
     ]
    },
    {
     "name": "stdout",
     "output_type": "stream",
     "text": [
      "\u001B[1m76/76\u001B[0m \u001B[32m━━━━━━━━━━━━━━━━━━━━\u001B[0m\u001B[37m\u001B[0m \u001B[1m2s\u001B[0m 7ms/step - loss: 3333077.2500 - val_loss: 1092905.0000\n",
      "Epoch 2/40\n",
      "\u001B[1m76/76\u001B[0m \u001B[32m━━━━━━━━━━━━━━━━━━━━\u001B[0m\u001B[37m\u001B[0m \u001B[1m0s\u001B[0m 6ms/step - loss: 1133824.8750 - val_loss: 815343.2500\n",
      "Epoch 3/40\n",
      "\u001B[1m76/76\u001B[0m \u001B[32m━━━━━━━━━━━━━━━━━━━━\u001B[0m\u001B[37m\u001B[0m \u001B[1m0s\u001B[0m 6ms/step - loss: 751678.1875 - val_loss: 319552.7188\n",
      "Epoch 4/40\n",
      "\u001B[1m76/76\u001B[0m \u001B[32m━━━━━━━━━━━━━━━━━━━━\u001B[0m\u001B[37m\u001B[0m \u001B[1m0s\u001B[0m 6ms/step - loss: 280757.2188 - val_loss: 129319.3906\n",
      "Epoch 5/40\n",
      "\u001B[1m76/76\u001B[0m \u001B[32m━━━━━━━━━━━━━━━━━━━━\u001B[0m\u001B[37m\u001B[0m \u001B[1m0s\u001B[0m 5ms/step - loss: 126462.2578 - val_loss: 84286.3203\n",
      "Epoch 6/40\n",
      "\u001B[1m76/76\u001B[0m \u001B[32m━━━━━━━━━━━━━━━━━━━━\u001B[0m\u001B[37m\u001B[0m \u001B[1m0s\u001B[0m 6ms/step - loss: 87969.0625 - val_loss: 58680.0312\n",
      "Epoch 7/40\n",
      "\u001B[1m76/76\u001B[0m \u001B[32m━━━━━━━━━━━━━━━━━━━━\u001B[0m\u001B[37m\u001B[0m \u001B[1m0s\u001B[0m 5ms/step - loss: 59517.9492 - val_loss: 45237.2188\n",
      "Epoch 8/40\n",
      "\u001B[1m76/76\u001B[0m \u001B[32m━━━━━━━━━━━━━━━━━━━━\u001B[0m\u001B[37m\u001B[0m \u001B[1m0s\u001B[0m 5ms/step - loss: 47981.0664 - val_loss: 36352.0469\n",
      "Epoch 9/40\n",
      "\u001B[1m 1/76\u001B[0m \u001B[37m━━━━━━━━━━━━━━━━━━━━\u001B[0m \u001B[1m2s\u001B[0m 37ms/step - loss: 43656.8477"
     ]
    }
   ],
   "execution_count": null
  },
  {
   "cell_type": "markdown",
   "id": "202a1dd7",
   "metadata": {},
   "source": [
    "# XXXXXXXXXXXXXXXXXXXXXXXXXXXXXXXXXXXXXXXXXXXXXXXXXXXXXXXXXXXXXXXXXXXXXXXXXXXXXXXXXXXXXXXXXXXXXXXXXXXXXXXXXXXXXXXXXXXXXXXXXXXXXXXXXXXXXXXXXXXXXXXXXXX\n",
    "\n",
    "From here trash code\n",
    "\n",
    "Dave Evaluation of Strategy:\n",
    "- [ ] Sharpe Ratio\n",
    "- [ ] In sample, out sample performance\n",
    "- [ ] Information Coefficient\n",
    "\n",
    "\n",
    "Rafael\n",
    "- [ ] Use Multiple Sets of Signals\n",
    "\n",
    "Felix\n",
    "- [ ] Write shit\n",
    "- [ ] Hyperparameter Tuning (Optional)\n",
    "\n",
    "After:\n",
    "- [ ] Hyperparameter Tuning\n",
    "- [ ] Data Augmentation\n"
   ]
  },
  {
   "cell_type": "markdown",
   "id": "b072206d",
   "metadata": {},
   "source": [
    "## Step 5: Backtest and Evaluate the Strategy"
   ]
  },
  {
   "cell_type": "markdown",
   "id": "cee51aa3",
   "metadata": {},
   "source": [
    "## Step 5: Calculate Model Accuracy"
   ]
  },
  {
   "metadata": {},
   "cell_type": "markdown",
   "source": "Get the in-sample and out-of-sample predictions",
   "id": "2cd19dc446a8a152"
  },
  {
   "metadata": {
    "jupyter": {
     "is_executing": true
    }
   },
   "cell_type": "code",
   "source": [
    "from sklearn.metrics import mean_squared_error, r2_score\n",
    "\n",
    "# In sample predictions\n",
    "ffnn_train_predictions = ffnn_model.predict(X_train)\n",
    "lstm_train_predictions = lstm_model.predict(X_train_lstm)\n",
    "cnn_train_predictions = cnn_model.predict(X_train)\n",
    "\n",
    "# FFNN performance\n",
    "ffnn_in_sample_r2 = r2_score(y_train, ffnn_train_predictions)\n",
    "ffnn_out_sample_r2 = r2_score(y_test, ffnn_predictions)\n",
    "ffnn_in_sample_mse = mean_squared_error(y_train, ffnn_train_predictions)\n",
    "ffnn_out_sample_mse = mean_squared_error(y_test, ffnn_predictions)\n",
    "\n",
    "# LSTM performance\n",
    "lstm_in_sample_r2 = r2_score(y_train_lstm_prepared, lstm_train_predictions)\n",
    "lstm_out_sample_r2 = r2_score(y_test_lstm_prepared, lstm_predictions)\n",
    "lstm_in_sample_mse = mean_squared_error(y_train_lstm_prepared, lstm_train_predictions)\n",
    "lstm_out_sample_mse = mean_squared_error(y_test_lstm_prepared, lstm_predictions)\n",
    "\n",
    "# CNN performance\n",
    "cnn_in_sample_r2 = r2_score(y_train, cnn_train_predictions)\n",
    "cnn_out_sample_r2 = r2_score(y_test, cnn_predictions)\n",
    "cnn_in_sample_mse = mean_squared_error(y_train, cnn_train_predictions)\n",
    "cnn_out_sample_mse = mean_squared_error(y_test, cnn_predictions)\n",
    "\n",
    "print(f\"FFNN In-sample R-squared: {ffnn_in_sample_r2}\")\n",
    "print(f\"FFNN In-sample MSE: {ffnn_in_sample_mse}\")\n",
    "print(f\"FFNN Out-sample R-squared: {ffnn_out_sample_r2}\")\n",
    "print(f\"FFNN Out-sample MSE: {ffnn_out_sample_mse}\")\n",
    "print(\"---------------------------------------------------\")\n",
    "print(f\"LSTM In-sample R-squared: {lstm_in_sample_r2}\")\n",
    "print(f\"LSTM In-sample MSE: {lstm_in_sample_mse}\")\n",
    "print(f\"LSTM Out-sample R-squared: {lstm_out_sample_r2}\")\n",
    "print(f\"LSTM Out-sample MSE: {lstm_out_sample_mse}\")\n",
    "print(\"---------------------------------------------------\")\n",
    "print(f\"CNN In-sample R-squared: {cnn_in_sample_r2}\")\n",
    "print(f\"CNN In-sample MSE: {cnn_in_sample_mse}\")\n",
    "print(f\"CNN Out-sample R-squared: {cnn_out_sample_r2}\")\n",
    "print(f\"CNN Out-sample MSE: {cnn_out_sample_mse}\")\n"
   ],
   "id": "beb91956ac62351a",
   "outputs": [],
   "execution_count": null
  },
  {
   "metadata": {},
   "cell_type": "markdown",
   "source": [
    "The Information Coefficient (IC) measures the correlation between predicted and actual returns.\n",
    "see: https://www.investopedia.com/terms/i/information-coefficient.asp"
   ],
   "id": "89d5acc6e919de6"
  },
  {
   "metadata": {
    "jupyter": {
     "is_executing": true
    }
   },
   "cell_type": "code",
   "source": [
    "import numpy as np\n",
    "\n",
    "def calculate_proportion_correct(predictions, actuals):\n",
    "    # Flatten the arrays to 1D\n",
    "    predictions = predictions.flatten()\n",
    "    actuals = actuals.flatten()\n",
    "    \n",
    "    # Align the lengths by trimming the last element of both arrays if one is longer than the other\n",
    "    min_length = min(len(predictions), len(actuals))\n",
    "    predictions = predictions[:min_length]\n",
    "    actuals = actuals[:min_length]\n",
    "    \n",
    "    # Calculate the direction of actual returns and predicted returns\n",
    "    actual_directions = np.diff(actuals) > 0\n",
    "    predicted_directions = np.diff(predictions) > 0\n",
    "    \n",
    "    # Determine the correct predictions (correct direction)\n",
    "    correct_predictions = np.where(predicted_directions == actual_directions, 1, 0)\n",
    "    \n",
    "    # Calculate the proportion of correct predictions\n",
    "    proportion_correct = np.mean(correct_predictions)\n",
    "    \n",
    "    return proportion_correct\n",
    "\n",
    "def calculate_ic(proportion_correct):\n",
    "    return (2 * proportion_correct) - 1\n",
    "\n",
    "# Calculate proportion correct for FFNN\n",
    "ffnn_proportion_correct = calculate_proportion_correct(ffnn_predictions, y_test.values)\n",
    "ffnn_ic_new = calculate_ic(ffnn_proportion_correct)\n",
    "\n",
    "print(f\"FFNN Information Coefficient (new method): {ffnn_ic_new}\")\n",
    "print(\"---------------------------------------------------\")\n",
    "# Calculate proportion correct for LSTM\n",
    "lstm_proportion_correct = calculate_proportion_correct(lstm_predictions, y_test_lstm_prepared)\n",
    "lstm_ic_new = calculate_ic(lstm_proportion_correct)\n",
    "print(f\"LSTM Information Coefficient (new method): {lstm_ic_new}\")\n",
    "print(\"---------------------------------------------------\")\n",
    "cnn_proportion_correct = calculate_proportion_correct(cnn_predictions, y_test.values)\n",
    "cnn_ic_new = calculate_ic(cnn_proportion_correct)\n",
    "print(f\"CNN Information Coefficient (new method): {cnn_ic_new}\")\n"
   ],
   "id": "c773237f30a4be45",
   "outputs": [],
   "execution_count": null
  },
  {
   "metadata": {},
   "cell_type": "markdown",
   "source": "Sharpe Ratio Calculation:",
   "id": "ee00ebf3dbd66ac2"
  },
  {
   "metadata": {},
   "cell_type": "markdown",
   "source": "TODOOOOOOOOOO",
   "id": "31d0cd59bc99c5cf"
  },
  {
   "cell_type": "markdown",
   "id": "13358346",
   "metadata": {},
   "source": [
    "### Step 2: Show and Discuss Results\n",
    "We will create charts to visualize the actual vs. predicted values for each model and discuss the results."
   ]
  },
  {
   "cell_type": "code",
   "id": "a6acb87f",
   "metadata": {
    "jupyter": {
     "is_executing": true
    }
   },
   "source": [
    "import pandas as pd\n",
    "import matplotlib.pyplot as plt\n",
    "\n",
    "# Load the original CSV data\n",
    "data = pd.read_csv(\"C:/Users/David/Documents/GitHub/Quantitative_Trading_Algorithm/output.csv\")\n",
    "\n",
    "# Convert y_train to DataFrame\n",
    "y_train_df = pd.DataFrame(y_train, columns=['snp'])\n",
    "\n",
    "# Merge y_train_df with the original data on the index\n",
    "merged_df = y_train_df.merge(data, left_index=True, right_index=True)\n",
    "\n",
    "# Print the columns of the merged DataFrame to inspect\n",
    "print(\"Columns in merged DataFrame:\", merged_df.columns)\n",
    "\n",
    "# Adjust the column names based on the actual data\n",
    "date_columns = ['year', 'month', 'day']  # Columns for the date\n",
    "value_column = 'snp_x'  # Column for the actual values\n",
    "\n",
    "# Verify if the columns exist\n",
    "if all(col in merged_df.columns for col in date_columns + [value_column]):\n",
    "    # Merge year, month, and day into a single datetime column\n",
    "    merged_df['date'] = pd.to_datetime(merged_df[date_columns])\n",
    "    \n",
    "    # Sort the DataFrame by date\n",
    "    merged_df = merged_df.sort_values(by='date')\n",
    "    \n",
    "    # Extract the sorted actual values\n",
    "    sorted_y_train = merged_df[value_column].values\n",
    "    \n",
    "    # Align predictions according to the sorted DataFrame\n",
    "    sorted_indices = merged_df.index.argsort()\n",
    "    ffnn_sorted_predictions_train = ffnn_train_predictions.flatten()[sorted_indices]\n",
    "    lstm_sorted_predictions_train = lstm_train_predictions.flatten()[sorted_indices]\n",
    "    cnn_sorted_predictions_train = cnn_train_predictions.flatten()[sorted_indices]\n",
    "    \n",
    "    # Plot actual vs. predicted values for FFNN\n",
    "    plt.figure(figsize=(12, 6))\n",
    "    plt.plot(merged_df['date'], sorted_y_train, label='Actual', color='blue')\n",
    "    plt.plot(merged_df['date'], ffnn_sorted_predictions_train, label='FFNN Predicted', color='red', alpha=0.5)\n",
    "    plt.title('FFNN Model: Actual vs. Predicted Prices')\n",
    "    plt.legend()\n",
    "    plt.show()\n",
    "    \n",
    "    # Plot actual vs. predicted values for LSTM\n",
    "    plt.figure(figsize=(12, 6))\n",
    "    plt.plot(merged_df['date'], sorted_y_train, label='Actual', color='blue')\n",
    "    plt.plot(merged_df['date'], lstm_sorted_predictions_train, label='LSTM Predicted', color='green', alpha=0.5)\n",
    "    plt.title('LSTM Model: Actual vs. Predicted Prices')\n",
    "    plt.legend()\n",
    "    plt.show()\n",
    "    \n",
    "    # Plot actual vs. predicted values for CNN\n",
    "    plt.figure(figsize=(12, 6))\n",
    "    plt.plot(merged_df['date'], sorted_y_train, label='Actual', color='blue')\n",
    "    plt.plot(merged_df['date'], cnn_sorted_predictions_train, label='CNN Predicted', color='orange', alpha=0.5)\n",
    "    plt.title('CNN Model: Actual vs. Predicted Prices')\n",
    "    plt.legend()\n",
    "    plt.show()\n",
    "else:\n",
    "    print(\"The specified columns do not exist in the merged DataFrame.\")\n"
   ],
   "outputs": [],
   "execution_count": null
  },
  {
   "cell_type": "markdown",
   "id": "f00521e6",
   "metadata": {},
   "source": [
    "# RAFAEL FROM HERE"
   ]
  },
  {
   "cell_type": "markdown",
   "id": "8562efd8",
   "metadata": {},
   "source": [
    "### Step 3: Use Multiple Sets of Signals\n",
    "We will evaluate the models using two sets of signals:\n",
    "\n",
    "Set 1: Macroeconomic Signals:\n",
    "\n",
    "GDP: Gross Domestic Product growth.\n",
    "CPI: Inflation rate.\n",
    "UN: Unemployment rate.\n",
    "IR: Nominal interest rate.\n",
    "Y10: 10Y treasury yield.\n",
    "Economic Motivation: These indicators are fundamental to the overall economic environment and can significantly influence stock market movements. Changes in GDP, inflation, and interest rates are closely monitored by investors.\n",
    "\n",
    "Set 2: Market and Technical Signals:\n",
    "\n",
    "PE: Price/Earnings ratio.\n",
    "DY: Dividend yield.\n",
    "_MKT: Market returns.\n",
    "_VA: Value index.\n",
    "_GR: Growth index.\n",
    "Economic Motivation: These indicators provide insight into market valuation and performance. They help understand the relative attractiveness of stocks and the broader market trends.\n",
    "\n",
    "We will re-train and evaluate the models using these sets of signals."
   ]
  },
  {
   "cell_type": "markdown",
   "id": "5d59493b",
   "metadata": {},
   "source": [
    "## FFNN"
   ]
  },
  {
   "cell_type": "code",
   "id": "88437ec1",
   "metadata": {
    "jupyter": {
     "is_executing": true
    }
   },
   "source": [
    "# ----------- Macroeconomic Signals Implementation -----------\n",
    "\n",
    "# Define Macroeconomic Signals\n",
    "macro_signals = ['gdp', 'cpi', 'un', 'ir', 'y10']\n",
    "\n",
    "# Filter data for these signals\n",
    "data_macro = data[macro_signals + ['snp']]\n",
    "data_macro = data_macro.dropna()\n",
    "features_macro = data_macro.drop(columns=['snp'])\n",
    "target_macro = data_macro['snp']\n",
    "features_macro_scaled = scaler.fit_transform(features_macro)\n",
    "\n",
    "X_train_macro, X_test_macro, y_train_macro, y_test_macro = train_test_split(features_macro_scaled, target_macro, test_size=0.3, random_state=42)\n",
    "\n",
    "ffnn_model_macro = create_ffnn_model(X_train_macro.shape[1])\n",
    "ffnn_history_macro = ffnn_model_macro.fit(X_train_macro, y_train_macro, epochs=40, batch_size=16, validation_split=0.2, verbose=1)\n",
    "\n",
    "ffnn_evaluation_macro = ffnn_model_macro.evaluate(X_test_macro, y_test_macro)\n",
    "print(f\"FFNN Model with Macro Signals Test Loss: {ffnn_evaluation_macro}\")\n",
    "\n",
    "ffnn_macro_predictions = ffnn_model_macro.predict(X_test_macro)\n",
    "ffnn_macro_mse = mean_squared_error(sorted(y_test_macro), ffnn_macro_predictions)\n",
    "ffnn_macro_r2 = r2_score(sorted(y_test_macro), ffnn_macro_predictions)\n",
    "print(f\"FFNN with Macro Signals MSE: {ffnn_macro_mse}\")\n",
    "print(f\"FFNN with Macro Signals R-squared: {ffnn_macro_r2}\")\n",
    "\n",
    "plt.figure(figsize=(12, 6))\n",
    "plt.plot(sorted(y_test_macro.values), label='Actual', color='blue')\n",
    "plt.plot(sorted(ffnn_macro_predictions.flatten()), label='FFNN Predicted', color='red')\n",
    "plt.title('FFNN Model with Macro Signals: Actual vs. Predicted Prices')\n",
    "plt.legend()\n",
    "plt.show()\n",
    "\n",
    "# ----------- Market and Technical Signals Implementation -----------\n",
    "\n",
    "# Define Market and Technical Signals\n",
    "market_signals = ['pe', 'dy', '_mkt', '_va', '_gr']\n",
    "\n",
    "# Filter data for these signals\n",
    "data_market = data[market_signals + ['snp']]\n",
    "data_market = data_market.dropna()\n",
    "features_market = data_market.drop(columns=['snp'])\n",
    "target_market = data_market['snp']\n",
    "features_market_scaled = scaler.fit_transform(features_market)\n",
    "\n",
    "X_train_market, X_test_market, y_train_market, y_test_market = train_test_split(features_market_scaled, target_market, test_size=0.3, random_state=42)\n",
    "\n",
    "ffnn_model_market = create_ffnn_model(X_train_market.shape[1])\n",
    "ffnn_history_market = ffnn_model_market.fit(X_train_market, y_train_market, epochs=40, batch_size=16, validation_split=0.2, verbose=1)\n",
    "\n",
    "ffnn_evaluation_market = ffnn_model_market.evaluate(X_test_market, y_test_market)\n",
    "print(f\"FFNN Model with Market Signals Test Loss: {ffnn_evaluation_market}\")\n",
    "\n",
    "ffnn_market_predictions = ffnn_model_market.predict(X_test_market)\n",
    "ffnn_market_mse = mean_squared_error(sorted(y_test_market), ffnn_market_predictions)\n",
    "ffnn_market_r2 = r2_score(sorted(y_test_market), ffnn_market_predictions)\n",
    "print(f\"FFNN with Market Signals MSE: {ffnn_market_mse}\")\n",
    "print(f\"FFNN with Market Signals R-squared: {ffnn_market_r2}\")\n",
    "\n",
    "plt.figure(figsize=(12, 6))\n",
    "plt.plot(sorted(y_test_market.values), label='Actual', color='blue')\n",
    "plt.plot(sorted(ffnn_market_predictions.flatten()), label='FFNN Predicted', color='green')\n",
    "plt.title('FFNN Model with Market Signals: Actual vs. Predicted Prices')\n",
    "plt.legend()\n",
    "plt.show()"
   ],
   "outputs": [],
   "execution_count": null
  },
  {
   "cell_type": "markdown",
   "id": "f174b2c2",
   "metadata": {},
   "source": [
    "# LSTM"
   ]
  },
  {
   "cell_type": "code",
   "id": "1e85bfc4",
   "metadata": {
    "jupyter": {
     "is_executing": true
    }
   },
   "source": [
    "# TODO"
   ],
   "outputs": [],
   "execution_count": null
  },
  {
   "cell_type": "markdown",
   "id": "f8288628",
   "metadata": {},
   "source": [
    "# CNN"
   ]
  },
  {
   "cell_type": "code",
   "id": "f83d2bf9",
   "metadata": {
    "jupyter": {
     "is_executing": true
    }
   },
   "source": [
    "# ----------- Macroeconomic Signals Implementation -----------\n",
    "\n",
    "# Define Macroeconomic Signals\n",
    "macro_signals = ['gdp', 'cpi', 'un', 'ir', 'y10']\n",
    "\n",
    "# Filter data for these signals\n",
    "data_macro = data[macro_signals + ['snp']]\n",
    "data_macro = data_macro.dropna()\n",
    "features_macro = data_macro.drop(columns=['snp'])\n",
    "target_macro = data_macro['snp']\n",
    "features_macro_scaled = scaler.fit_transform(features_macro)\n",
    "\n",
    "X_train_macro, X_test_macro, y_train_macro, y_test_macro = train_test_split(features_macro_scaled, target_macro, test_size=0.3, random_state=42)\n",
    "\n",
    "cnn_model_macro = create_cnn_model(X_train_macro.shape[1])\n",
    "cnn_history_macro = cnn_model_macro.fit(X_train_macro, y_train_macro, epochs=40, batch_size=16, validation_split=0.2, verbose=1)\n",
    "\n",
    "cnn_evaluation_macro = cnn_model_macro.evaluate(X_test_macro, y_test_macro)\n",
    "print(f\"CNN Model with Macro Signals Test Loss: {cnn_evaluation_macro}\")\n",
    "\n",
    "cnn_macro_predictions = cnn_model_macro.predict(X_test_macro)\n",
    "cnn_macro_mse = mean_squared_error(sorted(y_test_macro), cnn_macro_predictions)\n",
    "cnn_macro_r2 = r2_score(sorted(y_test_macro), cnn_macro_predictions)\n",
    "print(f\"CNN with Macro Signals MSE: {cnn_macro_mse}\")\n",
    "print(f\"CNN with Macro Signals R-squared: {cnn_macro_r2}\")\n",
    "\n",
    "plt.figure(figsize=(12, 6))\n",
    "plt.plot(sorted(y_test_macro.values), label='Actual', color='blue')\n",
    "plt.plot(sorted(cnn_macro_predictions.flatten()), label='CNN Predicted', color='red')\n",
    "plt.title('CNN Model with Macro Signals: Actual vs. Predicted Prices')\n",
    "plt.legend()\n",
    "plt.show()\n",
    "\n",
    "# ----------- Market and Technical Signals Implementation -----------\n",
    "\n",
    "# Define Market and Technical Signals\n",
    "market_signals = ['pe', 'dy', '_mkt', '_va', '_gr']\n",
    "\n",
    "# Filter data for these signals\n",
    "data_market = data[market_signals + ['snp']]\n",
    "data_market = data_market.dropna()\n",
    "features_market = data_market.drop(columns=['snp'])\n",
    "target_market = data_market['snp']\n",
    "features_market_scaled = scaler.fit_transform(features_market)\n",
    "\n",
    "X_train_market, X_test_market, y_train_market, y_test_market = train_test_split(features_market_scaled, target_market, test_size=0.3, random_state=42)\n",
    "\n",
    "cnn_model_market = create_cnn_model(X_train_market.shape[1])\n",
    "cnn_history_market = cnn_model_market.fit(X_train_market, y_train_market, epochs=40, batch_size=16, validation_split=0.2, verbose=1)\n",
    "\n",
    "cnn_evaluation_market = cnn_model_market.evaluate(X_test_market, y_test_market)\n",
    "print(f\"CNN Model with Market Signals Test Loss: {cnn_evaluation_market}\")\n",
    "\n",
    "cnn_market_predictions = cnn_model_market.predict(X_test_market)\n",
    "cnn_market_mse = mean_squared_error(sorted(y_test_market), cnn_market_predictions)\n",
    "cnn_market_r2 = r2_score(sorted(y_test_market), cnn_market_predictions)\n",
    "print(f\"CNN with Market Signals MSE: {cnn_market_mse}\")\n",
    "print(f\"CNN with Market Signals R-squared: {cnn_market_r2}\")\n",
    "\n",
    "plt.figure(figsize=(12, 6))\n",
    "plt.plot(sorted(y_test_market.values), label='Actual', color='blue')\n",
    "plt.plot(sorted(cnn_market_predictions.flatten()), label='CNN Predicted', color='green')\n",
    "plt.title('CNN Model with Market Signals: Actual vs. Predicted Prices')\n",
    "plt.legend()\n",
    "plt.show()"
   ],
   "outputs": [],
   "execution_count": null
  },
  {
   "cell_type": "markdown",
   "id": "f0c472ef",
   "metadata": {},
   "source": [
    "# DAVE AB HIER WIEDER"
   ]
  },
  {
   "cell_type": "markdown",
   "id": "87d00754",
   "metadata": {},
   "source": [
    "### Step 4: In-sample and Out-of-sample Performance\n",
    "In-sample Predictions and Plotting:\n",
    "\n",
    "Evaluate the in-sample performance using training data.\n",
    "Compare the in-sample predictions to the actual values.\n",
    "Plot the actual vs. predicted values for in-sample data."
   ]
  },
  {
   "cell_type": "code",
   "id": "80803c8d",
   "metadata": {
    "jupyter": {
     "is_executing": true
    }
   },
   "source": [
    "# In-sample predictions for FFNN\n",
    "ffnn_in_sample_predictions = ffnn_model.predict(X_train)\n",
    "ffnn_in_sample_mse = mean_squared_error(sorted(y_train), sorted(ffnn_in_sample_predictions))\n",
    "ffnn_in_sample_r2 = r2_score(sorted(y_train), sorted(ffnn_in_sample_predictions))\n",
    "print(f\"FFNN In-sample MSE: {ffnn_in_sample_mse}\")\n",
    "print(f\"FFNN In-sample R-squared: {ffnn_in_sample_r2}\")\n",
    "\n",
    "# Plot actual vs. predicted values for in-sample data (FFNN)\n",
    "plt.figure(figsize=(12, 6))\n",
    "plt.plot(sorted(y_train.values), label='Actual', color='blue')\n",
    "plt.plot(sorted(ffnn_in_sample_predictions.flatten()), label='FFNN In-sample Predicted', color='red')\n",
    "plt.title('FFNN Model In-sample: Actual vs. Predicted Prices')\n",
    "plt.legend()\n",
    "plt.show()\n",
    "\n",
    "# In-sample predictions for LSTM\n",
    "lstm_in_sample_predictions = lstm_model.predict(X_train_lstm)\n",
    "lstm_in_sample_mse = mean_squared_error(sorted(y_train_lstm_prepared), sorted(lstm_in_sample_predictions))\n",
    "lstm_in_sample_r2 = r2_score(sorted(y_train_lstm_prepared), sorted(lstm_in_sample_predictions))\n",
    "print(f\"LSTM In-sample MSE: {lstm_in_sample_mse}\")\n",
    "print(f\"LSTM In-sample R-squared: {lstm_in_sample_r2}\")\n",
    "\n",
    "# Plot actual vs. predicted values for in-sample data (LSTM)\n",
    "plt.figure(figsize=(12, 6))\n",
    "plt.plot(sorted(y_train_lstm_prepared), label='Actual', color='blue')\n",
    "plt.plot(sorted(lstm_in_sample_predictions.flatten()), label='LSTM In-sample Predicted', color='green')\n",
    "plt.title('LSTM Model In-sample: Actual vs. Predicted Prices')\n",
    "plt.legend()\n",
    "plt.show()\n",
    "\n",
    "# In-sample predictions for CNN\n",
    "cnn_in_sample_predictions = cnn_model.predict(X_train)\n",
    "cnn_in_sample_mse = mean_squared_error(sorted(y_train), sorted(cnn_in_sample_predictions))\n",
    "cnn_in_sample_r2 = r2_score(sorted(y_train), sorted(cnn_in_sample_predictions))\n",
    "print(f\"CNN In-sample MSE: {cnn_in_sample_mse}\")\n",
    "print(f\"CNN In-sample R-squared: {cnn_in_sample_r2}\")\n",
    "\n",
    "# Plot actual vs. predicted values for in-sample data (CNN)\n",
    "plt.figure(figsize=(12, 6))\n",
    "plt.plot(sorted(y_train.values), label='Actual', color='blue')\n",
    "plt.plot(sorted(cnn_in_sample_predictions.flatten()), label='CNN In-sample Predicted', color='orange')\n",
    "plt.title('CNN Model In-sample: Actual vs. Predicted Prices')\n",
    "plt.legend()\n",
    "plt.show()\n"
   ],
   "outputs": [],
   "execution_count": null
  },
  {
   "cell_type": "markdown",
   "id": "f10a0aad",
   "metadata": {},
   "source": [
    "Out-of-sample Predictions and Plotting:\n",
    "\n",
    "Evaluate the out-of-sample performance using testing data (already calculated).\n",
    "Compare the out-of-sample predictions to the actual values.\n",
    "Plot the actual vs. predicted values for out-of-sample data."
   ]
  },
  {
   "cell_type": "code",
   "id": "413884b2",
   "metadata": {
    "jupyter": {
     "is_executing": true
    }
   },
   "source": [
    "# Out-of-sample predictions for FFNN\n",
    "plt.figure(figsize=(12, 6))\n",
    "plt.plot(sorted(y_test.values), label='Actual', color='blue')\n",
    "plt.plot(sorted(ffnn_predictions.flatten()), label='FFNN Out-of-sample Predicted', color='red')\n",
    "plt.title('FFNN Model Out-of-sample: Actual vs. Predicted Prices')\n",
    "plt.legend()\n",
    "plt.show()\n",
    "\n",
    "# Out-of-sample predictions for LSTM\n",
    "plt.figure(figsize=(12, 6))\n",
    "plt.plot(sorted(y_test_lstm_prepared), label='Actual', color='blue')\n",
    "plt.plot(sorted(lstm_predictions.flatten()), label='LSTM Out-of-sample Predicted', color='green')\n",
    "plt.title('LSTM Model Out-of-sample: Actual vs. Predicted Prices')\n",
    "plt.legend()\n",
    "plt.show()\n",
    "\n",
    "# Out-of-sample predictions for CNN\n",
    "plt.figure(figsize=(12, 6))\n",
    "plt.plot(sorted(y_test.values), label='Actual', color='blue')\n",
    "plt.plot(sorted(cnn_predictions.flatten()), label='CNN Out-of-sample Predicted', color='orange')\n",
    "plt.title('CNN Model Out-of-sample: Actual vs. Predicted Prices')\n",
    "plt.legend()\n",
    "plt.show()"
   ],
   "outputs": [],
   "execution_count": null
  },
  {
   "cell_type": "markdown",
   "id": "9b65d11a",
   "metadata": {},
   "source": [
    "### Step 5: Analyze Hypotheses and Results\n",
    "We will form hypotheses based on our two sets of signals and compare the results to these expectations.\n",
    "\n",
    "Hypotheses:\n",
    "\n",
    "Macroeconomic Signals:\n",
    "\n",
    "Hypothesis: Macroeconomic indicators such as GDP, CPI, and interest rates significantly influence the S&P 500 movements, and models using these signals will have strong predictive power.\n",
    "Expected Results: Higher R-squared values and lower MSE for models trained with macroeconomic signals compared to other signals.\n",
    "Market and Technical Signals:\n",
    "\n",
    "Hypothesis: Market and technical indicators, such as P/E ratio, dividend yield, and market returns, provide a closer insight into stock market valuation and performance. These signals should lead to better short-term predictive performance.\n",
    "Expected Results: More accurate short-term predictions reflected in tighter alignment of actual vs. predicted values.\n",
    "Evaluate and Discuss Results:\n",
    "\n",
    "Compare the in-sample and out-of-sample performance of models using different sets of signals.\n",
    "Discuss whether the results support the initial hypotheses."
   ]
  },
  {
   "cell_type": "code",
   "id": "803bedcc",
   "metadata": {
    "jupyter": {
     "is_executing": true
    }
   },
   "source": [
    "# Evaluate FFNN with macro signals\n",
    "ffnn_macro_predictions = ffnn_model_macro.predict(X_test_macro)\n",
    "ffnn_macro_mse = mean_squared_error(y_test_macro, ffnn_macro_predictions)\n",
    "ffnn_macro_r2 = r2_score(y_test_macro, ffnn_macro_predictions)\n",
    "print(f\"FFNN with Macro Signals MSE: {ffnn_macro_mse}\")\n",
    "print(f\"FFNN with Macro Signals R-squared: {ffnn_macro_r2}\")\n",
    "\n",
    "# Evaluate FFNN with market signals\n",
    "ffnn_market_predictions = ffnn_model_market.predict(X_test_market)\n",
    "ffnn_market_mse = mean_squared_error(y_test_market, ffnn_market_predictions)\n",
    "ffnn_market_r2 = r2_score(y_test_market, ffnn_market_predictions)\n",
    "print(f\"FFNN with Market Signals MSE: {ffnn_market_mse}\")\n",
    "print(f\"FFNN with Market Signals R-squared: {ffnn_market_r2}\")\n",
    "\n",
    "# Compare in-sample and out-of-sample performance\n",
    "print(f\"In-sample R-squared: {ffnn_in_sample_r2}\")\n",
    "print(f\"Out-of-sample R-squared: {ffnn_r2}\")\n",
    "\n",
    "# Discuss whether the results support the initial hypotheses\n",
    "if ffnn_macro_r2 > ffnn_market_r2:\n",
    "    print(\"Macroeconomic signals provided better predictive power.\")\n",
    "else:\n",
    "    print(\"Market and technical signals provided better predictive power.\")\n"
   ],
   "outputs": [],
   "execution_count": null
  },
  {
   "cell_type": "markdown",
   "id": "adb3ede8",
   "metadata": {},
   "source": [
    "### Summary\n",
    "Calculated Model Accuracy: We used MSE and R-squared to evaluate model performance.\n",
    "Visualized Results: Plotted actual vs. predicted values for both in-sample and out-of-sample data.\n",
    "Used Multiple Signal Sets: Evaluated models with macroeconomic and market/technical signals, providing economic motivation.\n",
    "Analyzed Hypotheses: Formulated and tested hypotheses based on signal sets and discussed the results.\n",
    "This comprehensive approach ensures we have a detailed analysis and understanding of the performance of our trading algorithm. If you need any further details or additional steps, please let me know!"
   ]
  }
 ],
 "metadata": {
  "kernelspec": {
   "display_name": "Python 3",
   "language": "python",
   "name": "python3"
  },
  "language_info": {
   "codemirror_mode": {
    "name": "ipython",
    "version": 3
   },
   "file_extension": ".py",
   "mimetype": "text/x-python",
   "name": "python",
   "nbconvert_exporter": "python",
   "pygments_lexer": "ipython3",
   "version": "3.9.16"
  }
 },
 "nbformat": 4,
 "nbformat_minor": 5
}
